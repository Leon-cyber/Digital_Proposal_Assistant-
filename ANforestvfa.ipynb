{
 "cells": [
  {
   "cell_type": "code",
   "execution_count": 3,
   "metadata": {},
   "outputs": [],
   "source": [
    "import pandas as pd\n",
    "import numpy as np\n",
    "from sklearn.ensemble import RandomForestRegressor\n",
    "\n",
    "# 读取数据,删除前两列\n",
    "data = pd.read_csv('anadatavfa.csv')\n",
    "data.drop(['DATE','TIME'], axis=1, inplace=True)\n"
   ]
  },
  {
   "cell_type": "code",
   "execution_count": 4,
   "metadata": {},
   "outputs": [
    {
     "name": "stdout",
     "output_type": "stream",
     "text": [
      "(730, 23)\n",
      "DATA INPUT ARE:\n",
      "     PH  COND    TAC  TH   COD    OIL    SS  SO42-   CL-  NH4-N    TP    TN  \\\n",
      "0  6.9  3487  184.0  22  9200  169.9  35.0  4.999  60.0  37.93  3.96  92.0   \n",
      "1  6.7  3473  135.0  38  7475  176.0  76.0  5.000  84.3  34.41  3.94  95.0   \n",
      "\n",
      "      VFA   B-Q  B-RECY  \n",
      "0  2224.8  90.0     630  \n",
      "1  2212.3  80.0     630  \n",
      "DATA OUTPUT ARE:\n",
      " 0    582.1\n",
      "1    584.6\n",
      "Name: B-VFA, dtype: float64\n"
     ]
    }
   ],
   "source": [
    "\n",
    "print(data.shape)\n",
    "print(\"DATA INPUT ARE:\\n\",data.iloc[:2, :15])\n",
    "print(\"DATA OUTPUT ARE:\\n\",data.iloc[:2,15])\n",
    "\n",
    "#print the 16&17 column head\n",
    "#print(\"COLUMN 16 ARE:\\n\",data.iloc[:2,16])\n",
    "#print(\"COLUMN 17 ARE:\\n\",data.iloc[:2,17])\n"
   ]
  },
  {
   "cell_type": "code",
   "execution_count": 5,
   "metadata": {},
   "outputs": [
    {
     "name": "stdout",
     "output_type": "stream",
     "text": [
      "DATA INPUT ARE:\n",
      "          PH      COND       TAC        TH       COD       OIL        SS  \\\n",
      "0 -0.484082 -0.411910 -1.388239 -0.932082  1.484707  0.642252 -1.227536   \n",
      "1 -0.847081 -0.419311 -1.580110 -0.802458  0.497775  0.724751 -0.147023   \n",
      "\n",
      "      SO42-       CL-     NH4-N        TP        TN       VFA       B-Q  \\\n",
      "0 -0.759425 -0.948810 -0.351259 -1.348394  0.799956  1.211175  0.792488   \n",
      "1 -0.759423 -0.839179 -0.485740 -1.351194  0.916152  1.181709  0.457641   \n",
      "\n",
      "     B-RECY  \n",
      "0  1.178453  \n",
      "1  1.178453  \n",
      "DATA OUTPUT ARE:\n",
      " 0    582.1\n",
      "1    584.6\n",
      "Name: B-VFA, dtype: float64\n"
     ]
    }
   ],
   "source": [
    "\n",
    "#delete the rows if data is missing\n",
    "data = data.dropna(axis=0,how='any')\n",
    "\n",
    "#pretreat the data with Z-score\n",
    "\n",
    "from sklearn.preprocessing import StandardScaler\n",
    "\n",
    "scaler = StandardScaler()\n",
    "data.iloc[:,:15] = scaler.fit_transform(data.iloc[:,:15])\n",
    "\n",
    "print(\"DATA INPUT ARE:\\n\",data.iloc[:2, :15])\n",
    "print(\"DATA OUTPUT ARE:\\n\",data.iloc[:2,15])\n"
   ]
  },
  {
   "cell_type": "code",
   "execution_count": 6,
   "metadata": {},
   "outputs": [
    {
     "data": {
      "image/png": "[encoded data removed]",
      "text/plain": [
       "<Figure size 432x288 with 1 Axes>"
      ]
     },
     "metadata": {
      "needs_background": "light"
     },
     "output_type": "display_data"
    }
   ],
   "source": [
    "\n",
    "##############################FIRST year###########################################\n",
    "# 建立模型\n",
    "model = RandomForestRegressor()\n",
    "model.fit(data.iloc[:365, :15],data.iloc[:365, 15])\n",
    "\n",
    "# 计算特征贡献度\n",
    "importances = model.feature_importances_\n",
    "\n",
    "# 将特征重要性排序\n",
    "indices = np.argsort(importances)[::-1]\n",
    "\n",
    "# 找出贡献度最高的12个特征\n",
    "top_k = 12\n",
    "top_features = [data.columns[i] for i in indices[:top_k]]\n",
    "#print(top_features)\n",
    "\n",
    "# 画出特征重要性图\n",
    "import matplotlib.pyplot as plt\n",
    "plt.figure()\n",
    "plt.title(\"Feature importances-1st year VFA outlet\")\n",
    "plt.bar(range(top_k), importances[indices[:top_k]], color=\"r\", align=\"center\")\n",
    "plt.xticks(range(top_k), top_features, rotation=90)\n",
    "plt.xlim([-1, top_k])\n",
    "plt.show()\n",
    "\n",
    "##############################FIRST year###########################################\n",
    "\n"
   ]
  },
  {
   "cell_type": "code",
   "execution_count": null,
   "metadata": {},
   "outputs": [],
   "source": [
    "##############################sencond year###########################################\n",
    "# 建立模型\n",
    "model = RandomForestRegressor()\n",
    "model.fit(data.iloc[365:730, :15],data.iloc[365:730, 15])\n",
    "\n",
    "# 计算特征贡献度\n",
    "importances = model.feature_importances_\n",
    "\n",
    "# 将特征重要性排序\n",
    "indices = np.argsort(importances)[::-1]\n",
    "\n",
    "# 找出贡献度最高的12个特征\n",
    "top_k = 12\n",
    "top_features = [data.columns[i] for i in indices[:top_k]]\n",
    "#print(top_features)\n",
    "\n",
    "# 画出特征重要性图\n",
    "import matplotlib.pyplot as plt\n",
    "plt.figure()\n",
    "plt.title(\"Feature importances-2nd year VFA outlet\")\n",
    "plt.bar(range(top_k), importances[indices[:top_k]], color=\"r\", align=\"center\")\n",
    "plt.xticks(range(top_k), top_features, rotation=90)\n",
    "plt.xlim([-1, top_k])\n",
    "plt.show()\n",
    "\n",
    "##############################sencond year###########################################\n",
    "\n"
   ]
  },
  {
   "cell_type": "code",
   "execution_count": null,
   "metadata": {},
   "outputs": [],
   "source": [
    "##############################2 years###########################################\n",
    "# 建立模型\n",
    "model = RandomForestRegressor()\n",
    "model.fit(data.iloc[:730, :15],data.iloc[:730, 15])\n",
    "\n",
    "# 计算特征贡献度\n",
    "importances = model.feature_importances_\n",
    "\n",
    "# 将特征重要性排序\n",
    "indices = np.argsort(importances)[::-1]\n",
    "\n",
    "# 找出贡献度最高的12个特征\n",
    "top_k = 12\n",
    "top_features = [data.columns[i] for i in indices[:top_k]]\n",
    "#print(top_features)\n",
    "\n",
    "# 画出特征重要性图\n",
    "import matplotlib.pyplot as plt\n",
    "plt.figure()\n",
    "plt.title(\"Feature importances-2 years VFA outlet\")\n",
    "plt.bar(range(top_k), importances[indices[:top_k]], color=\"r\", align=\"center\")\n",
    "plt.xticks(range(top_k), top_features, rotation=90)\n",
    "plt.xlim([-1, top_k])\n",
    "plt.show()\n",
    "\n",
    "##############################2 years###########################################"
   ]
  }
 ],
 "metadata": {
  "kernelspec": {
   "display_name": "Enivr1",
   "language": "python",
   "name": "python3"
  },
  "language_info": {
   "codemirror_mode": {
    "name": "ipython",
    "version": 3
   },
   "file_extension": ".py",
   "mimetype": "text/x-python",
   "name": "python",
   "nbconvert_exporter": "python",
   "pygments_lexer": "ipython3",
   "version": "3.9.7"
  },
  "orig_nbformat": 4,
  "vscode": {
   "interpreter": {
    "hash": "6d15ca4723c05b2f407ee820dcd4026003092dcda31a2a4cd6a6d5dbda9a8dfe"
   }
  }
 },
 "nbformat": 4,
 "nbformat_minor": 2
}
